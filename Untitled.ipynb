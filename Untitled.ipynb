{
 "cells": [
  {
   "cell_type": "markdown",
   "id": "e1028854-ec9a-49cf-aa4a-19fb49590706",
   "metadata": {},
   "source": [
    "# Image Loading \n"
   ]
  },
  {
   "cell_type": "code",
   "execution_count": 153,
   "id": "c77deaa0-82c4-4474-b01a-538dd8dfbe29",
   "metadata": {},
   "outputs": [
    {
     "name": "stdout",
     "output_type": "stream",
     "text": [
      "[[[195 184 200]\n",
      "  [197 186 202]\n",
      "  [199 188 204]\n",
      "  ...\n",
      "  [ 31  27  32]\n",
      "  [ 34  30  35]\n",
      "  [ 35  31  36]]\n",
      "\n",
      " [[199 188 204]\n",
      "  [201 190 206]\n",
      "  [203 192 208]\n",
      "  ...\n",
      "  [ 32  28  33]\n",
      "  [ 36  32  37]\n",
      "  [ 39  35  40]]\n",
      "\n",
      " [[200 189 205]\n",
      "  [201 190 206]\n",
      "  [203 192 208]\n",
      "  ...\n",
      "  [ 34  30  35]\n",
      "  [ 39  35  40]\n",
      "  [ 40  36  41]]\n",
      "\n",
      " ...\n",
      "\n",
      " [[205 195 208]\n",
      "  [205 195 208]\n",
      "  [205 195 208]\n",
      "  ...\n",
      "  [114 108 155]\n",
      "  [111 106 151]\n",
      "  [102  97 142]]\n",
      "\n",
      " [[205 195 208]\n",
      "  [205 195 208]\n",
      "  [205 195 208]\n",
      "  ...\n",
      "  [108 105 150]\n",
      "  [109 104 149]\n",
      "  [105 100 145]]\n",
      "\n",
      " [[205 195 208]\n",
      "  [205 195 208]\n",
      "  [205 195 208]\n",
      "  ...\n",
      "  [111 108 153]\n",
      "  [112 109 154]\n",
      "  [113 109 151]]]\n",
      "-----------------\n",
      "[[[196 185 201]\n",
      "  [197 186 202]\n",
      "  [199 188 204]\n",
      "  ...\n",
      "  [ 33  29  34]\n",
      "  [ 35  31  36]\n",
      "  [ 36  32  37]]\n",
      "\n",
      " [[200 189 205]\n",
      "  [201 190 206]\n",
      "  [202 191 207]\n",
      "  ...\n",
      "  [ 36  32  37]\n",
      "  [ 39  35  40]\n",
      "  [ 40  36  41]]\n",
      "\n",
      " [[200 189 205]\n",
      "  [201 190 206]\n",
      "  [201 190 206]\n",
      "  ...\n",
      "  [ 35  31  36]\n",
      "  [ 40  36  41]\n",
      "  [ 45  41  46]]\n",
      "\n",
      " ...\n",
      "\n",
      " [[205 195 208]\n",
      "  [205 195 208]\n",
      "  [205 195 208]\n",
      "  ...\n",
      "  [114 108 155]\n",
      "  [111 105 151]\n",
      "  [110 103 148]]\n",
      "\n",
      " [[205 195 208]\n",
      "  [205 195 208]\n",
      "  [205 195 208]\n",
      "  ...\n",
      "  [111 106 152]\n",
      "  [108 103 147]\n",
      "  [101  96 142]]\n",
      "\n",
      " [[205 195 208]\n",
      "  [205 195 208]\n",
      "  [205 195 208]\n",
      "  ...\n",
      "  [111 108 153]\n",
      "  [112 108 152]\n",
      "  [112 107 150]]]\n",
      "-----------------\n"
     ]
    }
   ],
   "source": [
    "import os\n",
    "import cv2\n",
    "import numpy as np\n",
    "import keras\n",
    "import pandas as pd\n",
    "img_path = r\"C:\\Users\\KIIT\\Desktop\\earDB\"\n",
    "X = []\n",
    "y = []\n",
    "k = 0\n",
    "j = 0\n",
    "dirs_str = []\n",
    "for root, dirs, files in os.walk(img_path):\n",
    "    if len(dirs) != 0:\n",
    "        dirs_str = dirs\n",
    "        \n",
    "    temp = []\n",
    "    if len(files) != 0:\n",
    "        for i in files:\n",
    "            if i[-3:]==\"png\":\n",
    "                image = cv2.imread(root + \"/\" + i)\n",
    "                if k == 0:\n",
    "                    print(image)\n",
    "                    print(\"-----------------\")\n",
    "                    k+=1\n",
    "                height = 227\n",
    "                width = 227\n",
    "                dim = (width, height)\n",
    "                resized = cv2.resize(image, dim, interpolation = cv2.INTER_CUBIC)\n",
    "                X.append(resized)\n",
    "                y.append(int(dirs_str[j]))\n",
    "                if k == 1:\n",
    "                    print(resized)\n",
    "                    print(\"-----------------\")\n",
    "                    k+=1\n",
    "        j+=1"
   ]
  },
  {
   "cell_type": "code",
   "execution_count": 161,
   "id": "754fba27-d7ba-411a-be2d-8ad8fc8ce087",
   "metadata": {},
   "outputs": [
    {
     "name": "stdout",
     "output_type": "stream",
     "text": [
      "1000\n"
     ]
    }
   ],
   "source": [
    "print(len(X))\n",
    "y = [i-1 for i in y]"
   ]
  },
  {
   "cell_type": "code",
   "execution_count": 162,
   "id": "309a26b6-bc2d-40e9-92ef-9d3d03cab718",
   "metadata": {},
   "outputs": [
    {
     "name": "stdout",
     "output_type": "stream",
     "text": [
      "227\n",
      "(1000, 227, 227, 3)\n",
      "(1000,)\n",
      "<class 'numpy.ndarray'>\n"
     ]
    }
   ],
   "source": [
    "print(len(X[0]))\n",
    "X = np.array(X)\n",
    "y = np.array(y)\n",
    "print(X.shape)\n",
    "print(y.shape)\n",
    "print(type(X))"
   ]
  },
  {
   "cell_type": "code",
   "execution_count": 163,
   "id": "e9c82a75-9df1-4714-a548-33a322724046",
   "metadata": {},
   "outputs": [
    {
     "name": "stdout",
     "output_type": "stream",
     "text": [
      "(800, 227, 227, 3) (200, 227, 227, 3)\n"
     ]
    }
   ],
   "source": [
    "from sklearn.model_selection import train_test_split\n",
    "X = X/255\n",
    "X_train, X_test, y_train, y_test = train_test_split(X, y, test_size = 0.20, random_state = 78)\n",
    "print(X_train.shape, X_test.shape)"
   ]
  },
  {
   "cell_type": "code",
   "execution_count": 164,
   "id": "302d76a4-233a-410f-a03f-02f51bec267c",
   "metadata": {},
   "outputs": [],
   "source": [
    "X_train = X_train/255\n",
    "X_test = X_test/255\n"
   ]
  },
  {
   "cell_type": "code",
   "execution_count": 165,
   "id": "2d658f4d-2c3d-456b-b365-a95f62634f3b",
   "metadata": {},
   "outputs": [],
   "source": [
    "\n",
    "model = keras.models.Sequential([\n",
    "    keras.layers.Conv2D(filters=96, kernel_size=(11,11), strides=(4,4), activation='relu', input_shape=(227,227,3)),\n",
    "    keras.layers.BatchNormalization(),\n",
    "    keras.layers.MaxPool2D(pool_size=(3,3), strides=(2,2)),\n",
    "    keras.layers.Conv2D(filters=256, kernel_size=(5,5), strides=(1,1), activation='relu', padding=\"same\"),\n",
    "    keras.layers.BatchNormalization(),\n",
    "    keras.layers.MaxPool2D(pool_size=(3,3), strides=(2,2)),\n",
    "    keras.layers.Conv2D(filters=384, kernel_size=(3,3), strides=(1,1), activation='relu', padding=\"same\"),\n",
    "    keras.layers.BatchNormalization(),\n",
    "    keras.layers.Conv2D(filters=384, kernel_size=(3,3), strides=(1,1), activation='relu', padding=\"same\"),\n",
    "    keras.layers.BatchNormalization(),\n",
    "    keras.layers.Conv2D(filters=256, kernel_size=(3,3), strides=(1,1), activation='relu', padding=\"same\"),\n",
    "    keras.layers.BatchNormalization(),\n",
    "    keras.layers.MaxPool2D(pool_size=(3,3), strides=(2,2)),\n",
    "    keras.layers.Flatten(),\n",
    "    keras.layers.Dense(4096, activation='relu'),\n",
    "    keras.layers.Dropout(0.5),\n",
    "    keras.layers.Dense(4096, activation='relu'),\n",
    "    keras.layers.Dropout(0.5),\n",
    "    keras.layers.Dense(100, activation='softmax')\n",
    "])"
   ]
  },
  {
   "cell_type": "code",
   "execution_count": null,
   "id": "716290c8-9fd7-4481-8e93-bf76c1bca121",
   "metadata": {},
   "outputs": [
    {
     "name": "stdout",
     "output_type": "stream",
     "text": [
      "Epoch 1/20\n",
      "100/100 [==============================] - 132s 1s/step - loss: 23.0755 - accuracy: 0.0175 - val_loss: 18.3710 - val_accuracy: 0.0000e+00\n",
      "Epoch 2/20\n",
      "100/100 [==============================] - 116s 1s/step - loss: 5.8991 - accuracy: 0.0200 - val_loss: 12.7094 - val_accuracy: 0.0000e+00\n",
      "Epoch 3/20\n",
      " 89/100 [=========================>....] - ETA: 14s - loss: 4.7682 - accuracy: 0.0098"
     ]
    }
   ],
   "source": [
    "\n",
    "\n",
    "model.compile(\n",
    "    optimizer='adam',\n",
    "    loss='sparse_categorical_crossentropy',\n",
    "    metrics=[\"accuracy\"]\n",
    ")\n",
    "\n",
    "history = model.fit(\n",
    "    X, y, #Using Standard Scalar Data\n",
    "    validation_split=0.2, #Using Standard Scalar Data\n",
    "    batch_size=8,\n",
    "    epochs=20,\n",
    ")\n",
    "history_df = pd.DataFrame(history.history)\n",
    "history_df.loc[:, ['loss', 'val_loss']].plot();\n",
    "history_df.loc[:, ['accuracy', 'val_accuracy']].plot();"
   ]
  },
  {
   "cell_type": "code",
   "execution_count": null,
   "id": "16b90128-90c4-4bcf-a171-308cc359789e",
   "metadata": {},
   "outputs": [],
   "source": []
  },
  {
   "cell_type": "code",
   "execution_count": null,
   "id": "c9053755-b28b-4391-bbb7-5affeea16fd0",
   "metadata": {},
   "outputs": [],
   "source": []
  },
  {
   "cell_type": "code",
   "execution_count": null,
   "id": "0e0bcc3f-597f-4b29-9e1a-2e06a2af6473",
   "metadata": {},
   "outputs": [],
   "source": []
  }
 ],
 "metadata": {
  "kernelspec": {
   "display_name": "Python 3 (ipykernel)",
   "language": "python",
   "name": "python3"
  },
  "language_info": {
   "codemirror_mode": {
    "name": "ipython",
    "version": 3
   },
   "file_extension": ".py",
   "mimetype": "text/x-python",
   "name": "python",
   "nbconvert_exporter": "python",
   "pygments_lexer": "ipython3",
   "version": "3.8.5"
  }
 },
 "nbformat": 4,
 "nbformat_minor": 5
}
